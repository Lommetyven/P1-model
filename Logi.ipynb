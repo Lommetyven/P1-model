{
 "cells": [
  {
   "cell_type": "code",
   "execution_count": 2,
   "metadata": {},
   "outputs": [
    {
     "name": "stdout",
     "output_type": "stream",
     "text": [
      "Mean cross-validation accuracy: 0.811388888888889\n",
      "Mean cross-validation precision: 0.8239828276224157\n",
      "Mean cross-validation recall: 0.8526315789473685\n",
      "Mean cross-validation F1 score: 0.8326352119750036\n"
     ]
    }
   ],
   "source": [
    "import pandas as pd\n",
    "from sklearn.model_selection import cross_validate\n",
    "from sklearn.linear_model import LogisticRegression\n",
    "from sklearn.preprocessing import StandardScaler\n",
    "from sklearn.pipeline import Pipeline\n",
    "from sklearn.metrics import make_scorer, precision_score, recall_score, f1_score\n",
    "\n",
    "df = pd.read_csv(r\"C:\\Users\\tobia\\Desktop\\Rensetdata.csv\")\n",
    "\n",
    "features = ['Cholesterol', 'RestingBP', 'Age', 'FastingBS', 'MaxHR', 'Sex_M', \n",
    "            'ExerciseAngina_Y', 'RestingECG_ST', 'ChestPainType_TA', \n",
    "            'ChestPainType_ATA', 'ChestPainType_NAP', 'RestingECG_Normal']\n",
    "target = 'HeartDisease'\n",
    "\n",
    "X = df[features]\n",
    "y = df[target]\n",
    "\n",
    "pipeline = Pipeline([\n",
    "    ('scaler', StandardScaler()),\n",
    "    ('model', LogisticRegression(penalty='l2', solver='saga', C=0.01))\n",
    "])\n",
    "\n",
    "scoring = {\n",
    "    'accuracy': 'accuracy',\n",
    "    'precision': make_scorer(precision_score),\n",
    "    'recall': make_scorer(recall_score),\n",
    "    'f1': make_scorer(f1_score)\n",
    "}\n",
    "\n",
    "cv_results = cross_validate(pipeline, X, y, cv=20, scoring=scoring)\n",
    "\n",
    "print(\"Mean cross-validation accuracy:\", cv_results['test_accuracy'].mean())\n",
    "print(\"Mean cross-validation precision:\", cv_results['test_precision'].mean())\n",
    "print(\"Mean cross-validation recall:\", cv_results['test_recall'].mean())\n",
    "print(\"Mean cross-validation F1 score:\", cv_results['test_f1'].mean())\n"
   ]
  },
  {
   "cell_type": "code",
   "execution_count": null,
   "metadata": {},
   "outputs": [],
   "source": []
  }
 ],
 "metadata": {
  "kernelspec": {
   "display_name": "Python 3",
   "language": "python",
   "name": "python3"
  },
  "language_info": {
   "codemirror_mode": {
    "name": "ipython",
    "version": 3
   },
   "file_extension": ".py",
   "mimetype": "text/x-python",
   "name": "python",
   "nbconvert_exporter": "python",
   "pygments_lexer": "ipython3",
   "version": "3.12.7"
  }
 },
 "nbformat": 4,
 "nbformat_minor": 2
}
