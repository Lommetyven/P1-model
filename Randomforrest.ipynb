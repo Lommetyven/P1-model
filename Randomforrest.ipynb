{
 "cells": [
  {
   "cell_type": "code",
   "execution_count": null,
   "metadata": {},
   "outputs": [],
   "source": [
    "# Importer nødvendige biblioteker\n",
    "import pandas as pd\n",
    "from sklearn.model_selection import train_test_split, RandomizedSearchCV\n",
    "from sklearn.ensemble import RandomForestClassifier\n",
    "from sklearn.metrics import classification_report, recall_score\n",
    "\n",
    "\n",
    "# Definér input- og målvariabler\n",
    "X = data.drop(columns=[\"HeartDisease\"])\n",
    "y = data[\"HeartDisease\"]\n",
    "\n",
    "# Opdel datasættet i trænings- og testdatasæt\n",
    "X_train, X_test, y_train, y_test = train_test_split(X, y, test_size=0.2, random_state=42, stratify=y)\n",
    "\n",
    "# Definér hyperparameter-rummet til tuning\n",
    "param_distributions = {\n",
    "    \"n_estimators\": [50, 100, 200, 300],\n",
    "    \"max_depth\": [None, 10, 20, 30, 40],\n",
    "    \"min_samples_split\": [2, 5, 10],\n",
    "    \"min_samples_leaf\": [1, 2, 4],\n",
    "    \"max_features\": [\"sqrt\", \"log2\", None]\n",
    "}\n",
    "\n",
    "# Opsæt RandomizedSearchCV for at finde de bedste parametre\n",
    "random_search = RandomizedSearchCV(\n",
    "    estimator=RandomForestClassifier(random_state=42),\n",
    "    param_distributions=param_distributions,\n",
    "    n_iter=50,  # Antal kombinationer at teste\n",
    "    scoring=\"recall\",  # Optimering for recall\n",
    "    cv=3,  # 3-fold krydsvalidering\n",
    "    random_state=42,\n",
    "    verbose=1,\n",
    "    n_jobs=-1  # Brug alle tilgængelige processorer\n",
    ")\n",
    "\n",
    "# Udfør tuning\n",
    "random_search.fit(X_train, y_train)\n",
    "\n",
    "# Find den bedste model og parametre\n",
    "best_model = random_search.best_estimator_\n",
    "print(\"Bedste parametre: \", random_search.best_params_)\n",
    "\n",
    "# Evaluér modellen med de bedste parametre\n",
    "y_pred_best = best_model.predict(X_test)\n",
    "best_recall = recall_score(y_test, y_pred_best)\n",
    "print(\"\\nRecall for den tunede model: \", best_recall)\n",
    "\n",
    "# Vis klassifikationsrapport\n",
    "print(\"\\nKlassifikationsrapport:\")\n",
    "print(classification_report(y_test, y_pred_best, target_names=[\"No Heart Disease\", \"Heart Disease\"]))\n",
    "\n",
    "# Ekstra: Justér beslutningstærsklen for yderligere optimering af recall\n",
    "y_proba = best_model.predict_proba(X_test)[:, 1]\n",
    "threshold = 0.4  # Justér denne værdi for at optimere recall\n",
    "y_pred_adjusted = (y_proba >= threshold).astype(int)\n",
    "adjusted_recall = recall_score(y_test, y_pred_adjusted)\n",
    "print(\"\\nRecall med justeret tærskel (threshold=0.4): \", adjusted_recall)\n"
   ]
  },
  {
   "cell_type": "code",
   "execution_count": null,
   "metadata": {},
   "outputs": [],
   "source": []
  }
 ],
 "metadata": {
  "kernelspec": {
   "display_name": "Python 3",
   "language": "python",
   "name": "python3"
  },
  "language_info": {
   "codemirror_mode": {
    "name": "ipython",
    "version": 3
   },
   "file_extension": ".py",
   "mimetype": "text/x-python",
   "name": "python",
   "nbconvert_exporter": "python",
   "pygments_lexer": "ipython3",
   "version": "3.12.7"
  }
 },
 "nbformat": 4,
 "nbformat_minor": 2
}
