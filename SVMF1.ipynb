{
 "cells": [
  {
   "cell_type": "code",
   "execution_count": 5,
   "metadata": {},
   "outputs": [
    {
     "name": "stdout",
     "output_type": "stream",
     "text": [
      "Fitting 10 folds for each of 16 candidates, totalling 160 fits\n"
     ]
    },
    {
     "data": {
      "text/plain": [
       "{'Best Parameters': {'C': 1, 'gamma': 0.1},\n",
       " 'Best Recall': np.float64(0.8469549287851056),\n",
       " 'Accuracy (CV)': np.float64(0.8267801251956183),\n",
       " 'F1 Score (CV)': np.float64(0.8469549287851056)}"
      ]
     },
     "execution_count": 5,
     "metadata": {},
     "output_type": "execute_result"
    }
   ],
   "source": [
    "from sklearn.model_selection import GridSearchCV, cross_val_score, StratifiedKFold\n",
    "from sklearn.svm import SVC\n",
    "from sklearn.impute import SimpleImputer\n",
    "from sklearn.preprocessing import StandardScaler\n",
    "from sklearn.metrics import make_scorer, recall_score, accuracy_score, f1_score\n",
    "import numpy as np\n",
    "\n",
    "\n",
    "\n",
    "import pandas as pd\n",
    "\n",
    "# Load the uploaded dataset\n",
    "file_path = r\"C:\\Users\\tobia\\Desktop\\Rensetdata.csv\"\n",
    "data = pd.read_csv(file_path)\n",
    "\n",
    "# Separate features and target\n",
    "X = data.drop(columns=[\"HeartDisease\"])\n",
    "y = data[\"HeartDisease\"]\n",
    "\n",
    "# Handle missing values using median imputation\n",
    "imputer = SimpleImputer(strategy=\"median\")\n",
    "X_imputed = imputer.fit_transform(X)\n",
    "\n",
    "# Scale the features\n",
    "scaler = StandardScaler()\n",
    "X_scaled = scaler.fit_transform(X_imputed)\n",
    "\n",
    "# Define the SVM with RBF kernel\n",
    "svm_rbf = SVC(kernel=\"rbf\")\n",
    "\n",
    "# Set up the parameter grid for hyperparameter tuning\n",
    "param_grid = {\n",
    "    \"C\": [0.1, 1, 10, 100],\n",
    "    \"gamma\": [0.001, 0.01, 0.1, 1]\n",
    "}\n",
    "\n",
    "# Define a custom scoring metric prioritizing recall but balancing accuracy\n",
    "scoring = {\n",
    "    \"accuracy\": make_scorer(accuracy_score),\n",
    "    \"recall\": make_scorer(recall_score),\n",
    "    \"f1\": make_scorer(f1_score)\n",
    "}\n",
    "\n",
    "# Use StratifiedKFold for consistent class distribution across folds\n",
    "cv = StratifiedKFold(n_splits=10, shuffle=True, random_state=42)\n",
    "\n",
    "# Grid search with cross-validation\n",
    "grid_search = GridSearchCV(\n",
    "    estimator=svm_rbf,\n",
    "    param_grid=param_grid,\n",
    "    scoring=scoring,\n",
    "    refit=\"f1\",  # Optimize for recall\n",
    "    cv=cv,\n",
    "    verbose=1\n",
    ")\n",
    "\n",
    "# Fit the model\n",
    "grid_search.fit(X_scaled, y)\n",
    "\n",
    "# Extract the best parameters and corresponding metrics\n",
    "best_model = grid_search.best_estimator_\n",
    "best_params = grid_search.best_params_\n",
    "best_scores = grid_search.cv_results_\n",
    "\n",
    "# Compile and display results\n",
    "results = {\n",
    "    \"Best Parameters\": best_params,\n",
    "    \"Best Recall\": grid_search.best_score_,\n",
    "    \"Accuracy (CV)\": cross_val_score(best_model, X_scaled, y, cv=cv, scoring=\"accuracy\").mean(),\n",
    "    \"F1 Score (CV)\": cross_val_score(best_model, X_scaled, y, cv=cv, scoring=\"f1\").mean()\n",
    "}\n",
    "results\n"
   ]
  },
  {
   "cell_type": "code",
   "execution_count": null,
   "metadata": {},
   "outputs": [],
   "source": []
  },
  {
   "cell_type": "code",
   "execution_count": null,
   "metadata": {},
   "outputs": [],
   "source": [
    "\n"
   ]
  }
 ],
 "metadata": {
  "kernelspec": {
   "display_name": "Python 3",
   "language": "python",
   "name": "python3"
  },
  "language_info": {
   "codemirror_mode": {
    "name": "ipython",
    "version": 3
   },
   "file_extension": ".py",
   "mimetype": "text/x-python",
   "name": "python",
   "nbconvert_exporter": "python",
   "pygments_lexer": "ipython3",
   "version": "3.12.7"
  }
 },
 "nbformat": 4,
 "nbformat_minor": 2
}
